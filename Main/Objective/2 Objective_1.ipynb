{
 "cells": [
  {
   "cell_type": "code",
   "execution_count": 2,
   "id": "a05647fd",
   "metadata": {},
   "outputs": [
    {
     "name": "stdout",
     "output_type": "stream",
     "text": [
      "Enter the number of clusters (k): 2\n"
     ]
    },
    {
     "name": "stderr",
     "output_type": "stream",
     "text": [
      "C:\\Users\\aamir\\anaconda3\\Lib\\site-packages\\sklearn\\cluster\\_kmeans.py:870: FutureWarning: The default value of `n_init` will change from 10 to 'auto' in 1.4. Set the value of `n_init` explicitly to suppress the warning\n",
      "  warnings.warn(\n"
     ]
    },
    {
     "name": "stdout",
     "output_type": "stream",
     "text": [
      "Enter longitude: -122.5\n",
      "Enter latitude: 35.6\n",
      "Predicted median house value: 417321.3807805674\n"
     ]
    },
    {
     "name": "stderr",
     "output_type": "stream",
     "text": [
      "C:\\Users\\aamir\\anaconda3\\Lib\\site-packages\\sklearn\\base.py:439: UserWarning: X does not have valid feature names, but LinearRegression was fitted with feature names\n",
      "  warnings.warn(\n"
     ]
    }
   ],
   "source": [
    "#Objective:1\n",
    "import numpy as np\n",
    "import pandas as pd\n",
    "from sklearn.cluster import KMeans\n",
    "from sklearn.preprocessing import StandardScaler\n",
    "from sklearn.linear_model import LinearRegression\n",
    "df=pd.read_csv(r\"C:\\Users\\aamir\\OneDrive\\Desktop\\CSV Files\\housing.csv\")\n",
    "\n",
    "# Function to take user input for longitude and latitude\n",
    "def get_user_coordinates():\n",
    "    longitude = float(input(\"Enter longitude: \"))\n",
    "    latitude = float(input(\"Enter latitude: \"))\n",
    "    return longitude, latitude\n",
    "\n",
    "# Function to calculate distance between two points\n",
    "def calculate_distance(x1, y1, x2, y2):\n",
    "    return np.sqrt((x2 - x1)*2 + (y2 - y1)*2)\n",
    "\n",
    "# Function to find the closest cluster to the user's input coordinates\n",
    "def find_closest_cluster(user_longitude, user_latitude, centroids):\n",
    "    min_distance = float('inf')\n",
    "    closest_cluster = None\n",
    "    for i, centroid in enumerate(centroids):\n",
    "        distance = calculate_distance(user_longitude, user_latitude, centroid[0], centroid[1])\n",
    "        if distance < min_distance:\n",
    "            min_distance = distance\n",
    "            closest_cluster = i\n",
    "    return closest_cluster\n",
    "\n",
    "# Take user input for number of clusters (k)\n",
    "k = int(input(\"Enter the number of clusters (k): \"))\n",
    "\n",
    "# Extracting longitude and latitude columns\n",
    "X = df[['longitude', 'latitude']]\n",
    "\n",
    "# Feature scaling\n",
    "scaler = StandardScaler()\n",
    "X_scaled = scaler.fit_transform(X)\n",
    "\n",
    "# Performing k-means clustering\n",
    "kmeans = KMeans(n_clusters=k, random_state=42)\n",
    "kmeans.fit(X_scaled)\n",
    "\n",
    "# Get centroids\n",
    "centroids = kmeans.cluster_centers_\n",
    "\n",
    "# Take user input for longitude and latitude\n",
    "user_longitude, user_latitude = get_user_coordinates()\n",
    "\n",
    "# Find the closest cluster to the user's input coordinates\n",
    "closest_cluster = find_closest_cluster(user_longitude, user_latitude, centroids)\n",
    "\n",
    "# Get data points in the closest cluster\n",
    "closest_cluster_df = df[kmeans.labels_ == closest_cluster]\n",
    "\n",
    "# Train a linear regression model to predict median_house_value\n",
    "X_cluster = closest_cluster_df[['longitude', 'latitude']]\n",
    "y_cluster = closest_cluster_df['median_house_value']\n",
    "\n",
    "regression_model = LinearRegression()\n",
    "regression_model.fit(X_cluster, y_cluster)\n",
    "\n",
    "# Predicting median_house_value for the specific longitude and latitude\n",
    "predicted_median_house_value = regression_model.predict([[user_longitude, user_latitude]])\n",
    "print(\"Predicted median house value:\", predicted_median_house_value[0])"
   ]
  },
  {
   "cell_type": "code",
   "execution_count": 3,
   "id": "88bb8a9f",
   "metadata": {},
   "outputs": [
    {
     "data": {
      "image/png": "[encoded data removed]",
      "text/plain": [
       "<Figure size 640x480 with 1 Axes>"
      ]
     },
     "metadata": {},
     "output_type": "display_data"
    }
   ],
   "source": [
    "import matplotlib.pyplot as plt\n",
    "\n",
    "# Scatter plot of data points\n",
    "plt.scatter(df['longitude'], df['latitude'], c=kmeans.labels_, cmap='viridis', alpha=0.5, label='Clusters')\n",
    "# Plot centroids\n",
    "plt.scatter(centroids[:, 0], centroids[:, 1], marker='x', color='red', label='Centroids')\n",
    "# Plot user input\n",
    "plt.scatter(user_longitude, user_latitude, marker='o', color='green', label='User Input')\n",
    "plt.xlabel('Longitude')\n",
    "plt.ylabel('Latitude')\n",
    "plt.title('Clusters and User Input')\n",
    "plt.legend()\n",
    "plt.show()\n",
    "#Outliers: Possibility is that there are outliers in the dataset.If there are outliers in a cluster, the centroid may be pulled towards them, causing it to be located outside the main cluster.\n",
    "#Dimensionality: In higher-dimensional spaces, the concept of a centroid becomes less intuitive, and the centroid may appear to be outside the cluster even if it is technically within the cluster in some dimensions."
   ]
  },
  {
   "cell_type": "code",
   "execution_count": 4,
   "id": "a5496937",
   "metadata": {},
   "outputs": [
    {
     "name": "stderr",
     "output_type": "stream",
     "text": [
      "C:\\Users\\aamir\\anaconda3\\Lib\\site-packages\\sklearn\\cluster\\_kmeans.py:870: FutureWarning: The default value of `n_init` will change from 10 to 'auto' in 1.4. Set the value of `n_init` explicitly to suppress the warning\n",
      "  warnings.warn(\n"
     ]
    },
    {
     "name": "stdout",
     "output_type": "stream",
     "text": [
      "Silhouette Score: 0.7549172189258013\n"
     ]
    }
   ],
   "source": [
    "#obj1:- Silhouette Score\n",
    "from sklearn.metrics import silhouette_score\n",
    "# Performing k-means clustering\n",
    "kmeans = KMeans(n_clusters=k, random_state=42)\n",
    "kmeans.fit(X_scaled)\n",
    "\n",
    "# Obtaining cluster labels\n",
    "cluster_labels = kmeans.labels_\n",
    "\n",
    "# Computing Silhouette Score\n",
    "silhouette_score_value = silhouette_score(X_scaled, cluster_labels)\n",
    "print(\"Silhouette Score:\", silhouette_score_value)\n",
    "#A higher score indicates better clustering."
   ]
  }
 ],
 "metadata": {
  "kernelspec": {
   "display_name": "Python 3 (ipykernel)",
   "language": "python",
   "name": "python3"
  },
  "language_info": {
   "codemirror_mode": {
    "name": "ipython",
    "version": 3
   },
   "file_extension": ".py",
   "mimetype": "text/x-python",
   "name": "python",
   "nbconvert_exporter": "python",
   "pygments_lexer": "ipython3",
   "version": "3.11.3"
  }
 },
 "nbformat": 4,
 "nbformat_minor": 5
}
